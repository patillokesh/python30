{
 "cells": [
  {
   "cell_type": "code",
   "execution_count": null,
   "id": "b305c9f0",
   "metadata": {},
   "outputs": [],
   "source": [
    "Set\n",
    "1.set is unordered collection of unique elements\n",
    "2.{at least one element}\n",
    "3.indexing is not possible\n",
    "4.it is mutable type---> insert/delete/update"
   ]
  },
  {
   "cell_type": "code",
   "execution_count": null,
   "id": "521b38df",
   "metadata": {},
   "outputs": [],
   "source": []
  },
  {
   "cell_type": "code",
   "execution_count": 1,
   "id": "00161c67",
   "metadata": {},
   "outputs": [],
   "source": [
    "p = {}"
   ]
  },
  {
   "cell_type": "code",
   "execution_count": 2,
   "id": "312e90ef",
   "metadata": {},
   "outputs": [
    {
     "data": {
      "text/plain": [
       "dict"
      ]
     },
     "execution_count": 2,
     "metadata": {},
     "output_type": "execute_result"
    }
   ],
   "source": [
    "type(p)"
   ]
  },
  {
   "cell_type": "code",
   "execution_count": 3,
   "id": "7bea9dca",
   "metadata": {},
   "outputs": [],
   "source": [
    "p = {1,1,1,1,1,1,1,1,2,3,4,4,4,4,4,4,4,5,6,}"
   ]
  },
  {
   "cell_type": "code",
   "execution_count": 4,
   "id": "e6c7fb78",
   "metadata": {},
   "outputs": [
    {
     "data": {
      "text/plain": [
       "{1, 2, 3, 4, 5, 6}"
      ]
     },
     "execution_count": 4,
     "metadata": {},
     "output_type": "execute_result"
    }
   ],
   "source": [
    "p"
   ]
  },
  {
   "cell_type": "code",
   "execution_count": 5,
   "id": "e8a9c3da",
   "metadata": {},
   "outputs": [],
   "source": [
    "p = {10,30,'python','java',100,'c','hadoop'}"
   ]
  },
  {
   "cell_type": "code",
   "execution_count": 6,
   "id": "728558da",
   "metadata": {},
   "outputs": [
    {
     "data": {
      "text/plain": [
       "{10, 100, 30, 'c', 'hadoop', 'java', 'python'}"
      ]
     },
     "execution_count": 6,
     "metadata": {},
     "output_type": "execute_result"
    }
   ],
   "source": [
    "p"
   ]
  },
  {
   "cell_type": "code",
   "execution_count": null,
   "id": "dfb9e823",
   "metadata": {},
   "outputs": [],
   "source": [
    "list  --> ordered\n",
    "\n",
    "tuple --> ordered"
   ]
  },
  {
   "cell_type": "code",
   "execution_count": 7,
   "id": "eec0a03f",
   "metadata": {},
   "outputs": [
    {
     "ename": "TypeError",
     "evalue": "'set' object is not subscriptable",
     "output_type": "error",
     "traceback": [
      "\u001b[1;31m---------------------------------------------------------------------------\u001b[0m",
      "\u001b[1;31mTypeError\u001b[0m                                 Traceback (most recent call last)",
      "\u001b[1;32m<ipython-input-7-936fada7cb05>\u001b[0m in \u001b[0;36m<module>\u001b[1;34m\u001b[0m\n\u001b[1;32m----> 1\u001b[1;33m \u001b[0mp\u001b[0m\u001b[1;33m[\u001b[0m\u001b[1;36m3\u001b[0m\u001b[1;33m]\u001b[0m\u001b[1;33m\u001b[0m\u001b[1;33m\u001b[0m\u001b[0m\n\u001b[0m",
      "\u001b[1;31mTypeError\u001b[0m: 'set' object is not subscriptable"
     ]
    }
   ],
   "source": [
    "p[3]"
   ]
  },
  {
   "cell_type": "code",
   "execution_count": 8,
   "id": "d5617393",
   "metadata": {},
   "outputs": [
    {
     "data": {
      "text/plain": [
       "{10, 100, 30, 'c', 'hadoop', 'java', 'python'}"
      ]
     },
     "execution_count": 8,
     "metadata": {},
     "output_type": "execute_result"
    }
   ],
   "source": [
    "p"
   ]
  },
  {
   "cell_type": "code",
   "execution_count": null,
   "id": "09bd7a14",
   "metadata": {},
   "outputs": [],
   "source": [
    "1.insert\n",
    "add()\n",
    "update()\n",
    "\n",
    "\n",
    "\n",
    "2.delete\n",
    "\n",
    "\n",
    "\n"
   ]
  },
  {
   "cell_type": "code",
   "execution_count": null,
   "id": "f33d09ff",
   "metadata": {},
   "outputs": [],
   "source": []
  },
  {
   "cell_type": "code",
   "execution_count": 9,
   "id": "83dee9a1",
   "metadata": {},
   "outputs": [
    {
     "data": {
      "text/plain": [
       "{10, 100, 30, 'c', 'hadoop', 'java', 'python'}"
      ]
     },
     "execution_count": 9,
     "metadata": {},
     "output_type": "execute_result"
    }
   ],
   "source": [
    "p"
   ]
  },
  {
   "cell_type": "code",
   "execution_count": 10,
   "id": "33a7024c",
   "metadata": {},
   "outputs": [],
   "source": [
    "p.add('pyspark')  # add single element"
   ]
  },
  {
   "cell_type": "code",
   "execution_count": 11,
   "id": "7014e0b9",
   "metadata": {},
   "outputs": [
    {
     "data": {
      "text/plain": [
       "{10, 100, 30, 'c', 'hadoop', 'java', 'pyspark', 'python'}"
      ]
     },
     "execution_count": 11,
     "metadata": {},
     "output_type": "execute_result"
    }
   ],
   "source": [
    "p"
   ]
  },
  {
   "cell_type": "code",
   "execution_count": 16,
   "id": "b1f5afd3",
   "metadata": {},
   "outputs": [],
   "source": [
    "p.add(500)"
   ]
  },
  {
   "cell_type": "code",
   "execution_count": 17,
   "id": "e37ace2e",
   "metadata": {},
   "outputs": [
    {
     "data": {
      "text/plain": [
       "{10, 100, 30, 500, 'c', 'hadoop', 'java', 'pyspark', 'python'}"
      ]
     },
     "execution_count": 17,
     "metadata": {},
     "output_type": "execute_result"
    }
   ],
   "source": [
    "p"
   ]
  },
  {
   "cell_type": "code",
   "execution_count": 18,
   "id": "94547dfb",
   "metadata": {},
   "outputs": [],
   "source": [
    "#multiple element"
   ]
  },
  {
   "cell_type": "code",
   "execution_count": 26,
   "id": "78a92507",
   "metadata": {},
   "outputs": [],
   "source": [
    "p.update([600,300,500,100,'python'])"
   ]
  },
  {
   "cell_type": "code",
   "execution_count": 20,
   "id": "1923224b",
   "metadata": {},
   "outputs": [
    {
     "data": {
      "text/plain": [
       "{10, 100, 30, 300, 500, 600, 'c', 'hadoop', 'java', 'pyspark', 'python'}"
      ]
     },
     "execution_count": 20,
     "metadata": {},
     "output_type": "execute_result"
    }
   ],
   "source": [
    "p"
   ]
  },
  {
   "cell_type": "code",
   "execution_count": 21,
   "id": "c12267bd",
   "metadata": {},
   "outputs": [],
   "source": [
    "s1 = {1,2,3}"
   ]
  },
  {
   "cell_type": "code",
   "execution_count": 22,
   "id": "e8d2bb40",
   "metadata": {},
   "outputs": [],
   "source": [
    "s2 = {100,200,300}"
   ]
  },
  {
   "cell_type": "code",
   "execution_count": 23,
   "id": "f86715ff",
   "metadata": {},
   "outputs": [],
   "source": [
    "s2.update(s1)"
   ]
  },
  {
   "cell_type": "code",
   "execution_count": 24,
   "id": "75784947",
   "metadata": {},
   "outputs": [
    {
     "data": {
      "text/plain": [
       "{1, 2, 3, 100, 200, 300}"
      ]
     },
     "execution_count": 24,
     "metadata": {},
     "output_type": "execute_result"
    }
   ],
   "source": [
    "s2"
   ]
  },
  {
   "cell_type": "code",
   "execution_count": 25,
   "id": "aadcc3c9",
   "metadata": {},
   "outputs": [
    {
     "data": {
      "text/plain": [
       "()"
      ]
     },
     "execution_count": 25,
     "metadata": {},
     "output_type": "execute_result"
    }
   ],
   "source": [
    "k.index()"
   ]
  },
  {
   "cell_type": "code",
   "execution_count": 27,
   "id": "efb2d934",
   "metadata": {},
   "outputs": [
    {
     "data": {
      "text/plain": [
       "{10, 100, 30, 300, 500, 600, 'c', 'hadoop', 'java', 'pyspark', 'python'}"
      ]
     },
     "execution_count": 27,
     "metadata": {},
     "output_type": "execute_result"
    }
   ],
   "source": [
    "p"
   ]
  },
  {
   "cell_type": "code",
   "execution_count": 28,
   "id": "82389ab7",
   "metadata": {},
   "outputs": [],
   "source": [
    "py_set = {10, 100, 30, 300, 500, 600}"
   ]
  },
  {
   "cell_type": "code",
   "execution_count": 29,
   "id": "9ce60de9",
   "metadata": {},
   "outputs": [],
   "source": [
    "#delete\n",
    "\n",
    "1.remove\n",
    "if element present in set then delete if not then return KeyError\n",
    "\n",
    "\n",
    "2.discard\n",
    "if element present then delete if not then skip(do nothing)\n",
    "\n",
    "\n",
    "3.pop\n",
    "it will delete element randomly"
   ]
  },
  {
   "cell_type": "code",
   "execution_count": 30,
   "id": "770a33ab",
   "metadata": {},
   "outputs": [],
   "source": [
    "py_set.remove(100)"
   ]
  },
  {
   "cell_type": "code",
   "execution_count": 31,
   "id": "366e231f",
   "metadata": {},
   "outputs": [
    {
     "data": {
      "text/plain": [
       "{10, 30, 300, 500, 600}"
      ]
     },
     "execution_count": 31,
     "metadata": {},
     "output_type": "execute_result"
    }
   ],
   "source": [
    "py_set"
   ]
  },
  {
   "cell_type": "code",
   "execution_count": 32,
   "id": "92755ddf",
   "metadata": {},
   "outputs": [
    {
     "ename": "KeyError",
     "evalue": "'python'",
     "output_type": "error",
     "traceback": [
      "\u001b[1;31m---------------------------------------------------------------------------\u001b[0m",
      "\u001b[1;31mKeyError\u001b[0m                                  Traceback (most recent call last)",
      "\u001b[1;32m<ipython-input-32-b37c743aa0e7>\u001b[0m in \u001b[0;36m<module>\u001b[1;34m\u001b[0m\n\u001b[1;32m----> 1\u001b[1;33m \u001b[0mpy_set\u001b[0m\u001b[1;33m.\u001b[0m\u001b[0mremove\u001b[0m\u001b[1;33m(\u001b[0m\u001b[1;34m'python'\u001b[0m\u001b[1;33m)\u001b[0m\u001b[1;33m\u001b[0m\u001b[1;33m\u001b[0m\u001b[0m\n\u001b[0m",
      "\u001b[1;31mKeyError\u001b[0m: 'python'"
     ]
    }
   ],
   "source": [
    "py_set.remove('python')"
   ]
  },
  {
   "cell_type": "code",
   "execution_count": 33,
   "id": "ae5ef035",
   "metadata": {},
   "outputs": [],
   "source": [
    "py_list = [1,2,3]"
   ]
  },
  {
   "cell_type": "code",
   "execution_count": 34,
   "id": "5fc2122d",
   "metadata": {},
   "outputs": [
    {
     "ename": "ValueError",
     "evalue": "list.remove(x): x not in list",
     "output_type": "error",
     "traceback": [
      "\u001b[1;31m---------------------------------------------------------------------------\u001b[0m",
      "\u001b[1;31mValueError\u001b[0m                                Traceback (most recent call last)",
      "\u001b[1;32m<ipython-input-34-cf569ec47a77>\u001b[0m in \u001b[0;36m<module>\u001b[1;34m\u001b[0m\n\u001b[1;32m----> 1\u001b[1;33m \u001b[0mpy_list\u001b[0m\u001b[1;33m.\u001b[0m\u001b[0mremove\u001b[0m\u001b[1;33m(\u001b[0m\u001b[1;36m100\u001b[0m\u001b[1;33m)\u001b[0m\u001b[1;33m\u001b[0m\u001b[1;33m\u001b[0m\u001b[0m\n\u001b[0m",
      "\u001b[1;31mValueError\u001b[0m: list.remove(x): x not in list"
     ]
    }
   ],
   "source": [
    "py_list.remove(100)"
   ]
  },
  {
   "cell_type": "code",
   "execution_count": 35,
   "id": "ecf328d7",
   "metadata": {},
   "outputs": [],
   "source": [
    "py_set.discard('python')"
   ]
  },
  {
   "cell_type": "code",
   "execution_count": 36,
   "id": "37c4162a",
   "metadata": {},
   "outputs": [
    {
     "data": {
      "text/plain": [
       "10"
      ]
     },
     "execution_count": 36,
     "metadata": {},
     "output_type": "execute_result"
    }
   ],
   "source": [
    "py_set.pop()"
   ]
  },
  {
   "cell_type": "code",
   "execution_count": 37,
   "id": "f3db6e3c",
   "metadata": {},
   "outputs": [
    {
     "data": {
      "text/plain": [
       "{30, 300, 500, 600}"
      ]
     },
     "execution_count": 37,
     "metadata": {},
     "output_type": "execute_result"
    }
   ],
   "source": [
    "py_set"
   ]
  },
  {
   "cell_type": "code",
   "execution_count": 38,
   "id": "aa5c39e3",
   "metadata": {},
   "outputs": [
    {
     "data": {
      "text/plain": [
       "300"
      ]
     },
     "execution_count": 38,
     "metadata": {},
     "output_type": "execute_result"
    }
   ],
   "source": [
    "py_set.pop()"
   ]
  },
  {
   "cell_type": "code",
   "execution_count": 39,
   "id": "34e8ac06",
   "metadata": {},
   "outputs": [
    {
     "data": {
      "text/plain": [
       "500"
      ]
     },
     "execution_count": 39,
     "metadata": {},
     "output_type": "execute_result"
    }
   ],
   "source": [
    "py_set.pop()"
   ]
  },
  {
   "cell_type": "code",
   "execution_count": 40,
   "id": "2578b8b5",
   "metadata": {},
   "outputs": [],
   "source": [
    "p ={10, 100, 30, 300, 500, 600, 'c', 'hadoop', 'java', 'pyspark', 'python'}"
   ]
  },
  {
   "cell_type": "code",
   "execution_count": 49,
   "id": "fd0252ed",
   "metadata": {},
   "outputs": [
    {
     "data": {
      "text/plain": [
       "500"
      ]
     },
     "execution_count": 49,
     "metadata": {},
     "output_type": "execute_result"
    }
   ],
   "source": [
    "p.pop() # ---> ml"
   ]
  },
  {
   "cell_type": "code",
   "execution_count": null,
   "id": "a7774e27",
   "metadata": {},
   "outputs": [],
   "source": [
    "remove  -->present\n",
    "discard --> \n",
    "pop"
   ]
  },
  {
   "cell_type": "code",
   "execution_count": 50,
   "id": "85ea5614",
   "metadata": {},
   "outputs": [
    {
     "data": {
      "text/plain": [
       "{30, 600}"
      ]
     },
     "execution_count": 50,
     "metadata": {},
     "output_type": "execute_result"
    }
   ],
   "source": [
    "p"
   ]
  },
  {
   "cell_type": "code",
   "execution_count": 51,
   "id": "40a61dc4",
   "metadata": {},
   "outputs": [
    {
     "data": {
      "text/plain": [
       "600"
      ]
     },
     "execution_count": 51,
     "metadata": {},
     "output_type": "execute_result"
    }
   ],
   "source": [
    "p.pop()"
   ]
  },
  {
   "cell_type": "code",
   "execution_count": 52,
   "id": "afb7b9ee",
   "metadata": {},
   "outputs": [
    {
     "data": {
      "text/plain": [
       "{30}"
      ]
     },
     "execution_count": 52,
     "metadata": {},
     "output_type": "execute_result"
    }
   ],
   "source": [
    "p"
   ]
  },
  {
   "cell_type": "code",
   "execution_count": 53,
   "id": "ccc68cf5",
   "metadata": {},
   "outputs": [
    {
     "data": {
      "text/plain": [
       "{30, 600}"
      ]
     },
     "execution_count": 53,
     "metadata": {},
     "output_type": "execute_result"
    }
   ],
   "source": []
  },
  {
   "cell_type": "code",
   "execution_count": null,
   "id": "3318716f",
   "metadata": {},
   "outputs": [],
   "source": []
  },
  {
   "cell_type": "code",
   "execution_count": 61,
   "id": "036e9518",
   "metadata": {},
   "outputs": [],
   "source": [
    "p = {1,2,3}"
   ]
  },
  {
   "cell_type": "code",
   "execution_count": 62,
   "id": "3f075ff5",
   "metadata": {},
   "outputs": [],
   "source": [
    "p1 = {1,100,300}"
   ]
  },
  {
   "cell_type": "code",
   "execution_count": 56,
   "id": "1aede09a",
   "metadata": {},
   "outputs": [
    {
     "data": {
      "text/plain": [
       "{1, 2, 3, 100, 300}"
      ]
     },
     "execution_count": 56,
     "metadata": {},
     "output_type": "execute_result"
    }
   ],
   "source": [
    "p.union(p1)"
   ]
  },
  {
   "cell_type": "code",
   "execution_count": 57,
   "id": "f1e7a106",
   "metadata": {},
   "outputs": [
    {
     "data": {
      "text/plain": [
       "{1, 2, 3}"
      ]
     },
     "execution_count": 57,
     "metadata": {},
     "output_type": "execute_result"
    }
   ],
   "source": [
    "p"
   ]
  },
  {
   "cell_type": "code",
   "execution_count": 58,
   "id": "5b4fb61d",
   "metadata": {},
   "outputs": [
    {
     "data": {
      "text/plain": [
       "{1, 100, 300}"
      ]
     },
     "execution_count": 58,
     "metadata": {},
     "output_type": "execute_result"
    }
   ],
   "source": [
    "p1"
   ]
  },
  {
   "cell_type": "code",
   "execution_count": 59,
   "id": "6093b185",
   "metadata": {},
   "outputs": [],
   "source": [
    "p.update(p1)"
   ]
  },
  {
   "cell_type": "code",
   "execution_count": 60,
   "id": "62470eaf",
   "metadata": {},
   "outputs": [
    {
     "data": {
      "text/plain": [
       "{1, 2, 3, 100, 300}"
      ]
     },
     "execution_count": 60,
     "metadata": {},
     "output_type": "execute_result"
    }
   ],
   "source": [
    "p"
   ]
  },
  {
   "cell_type": "code",
   "execution_count": 63,
   "id": "51aa0326",
   "metadata": {},
   "outputs": [
    {
     "data": {
      "text/plain": [
       "{1, 2, 3}"
      ]
     },
     "execution_count": 63,
     "metadata": {},
     "output_type": "execute_result"
    }
   ],
   "source": [
    "p"
   ]
  },
  {
   "cell_type": "code",
   "execution_count": 64,
   "id": "26549770",
   "metadata": {},
   "outputs": [
    {
     "data": {
      "text/plain": [
       "{1, 100, 300}"
      ]
     },
     "execution_count": 64,
     "metadata": {},
     "output_type": "execute_result"
    }
   ],
   "source": [
    "p1"
   ]
  },
  {
   "cell_type": "code",
   "execution_count": 65,
   "id": "4668f608",
   "metadata": {},
   "outputs": [
    {
     "data": {
      "text/plain": [
       "{1}"
      ]
     },
     "execution_count": 65,
     "metadata": {},
     "output_type": "execute_result"
    }
   ],
   "source": [
    "p.intersection(p1)"
   ]
  },
  {
   "cell_type": "code",
   "execution_count": 66,
   "id": "11c8105a",
   "metadata": {},
   "outputs": [
    {
     "data": {
      "text/plain": [
       "{2, 3}"
      ]
     },
     "execution_count": 66,
     "metadata": {},
     "output_type": "execute_result"
    }
   ],
   "source": [
    "p.difference(p1)"
   ]
  },
  {
   "cell_type": "code",
   "execution_count": 67,
   "id": "de39ec9d",
   "metadata": {},
   "outputs": [
    {
     "data": {
      "text/plain": [
       "{100, 300}"
      ]
     },
     "execution_count": 67,
     "metadata": {},
     "output_type": "execute_result"
    }
   ],
   "source": [
    "p1.difference(p)"
   ]
  },
  {
   "cell_type": "code",
   "execution_count": 68,
   "id": "168364aa",
   "metadata": {},
   "outputs": [
    {
     "data": {
      "text/plain": [
       "{2, 3, 100, 300}"
      ]
     },
     "execution_count": 68,
     "metadata": {},
     "output_type": "execute_result"
    }
   ],
   "source": [
    "p.symmetric_difference(p1)"
   ]
  },
  {
   "cell_type": "code",
   "execution_count": 69,
   "id": "8b6b70fc",
   "metadata": {},
   "outputs": [],
   "source": [
    "loan  = {\"Jon\",'Arun','Justin','Keshav'}"
   ]
  },
  {
   "cell_type": "code",
   "execution_count": 72,
   "id": "6f77eab1",
   "metadata": {},
   "outputs": [],
   "source": [
    "credit = {\"Arun\",'Madhav',\"sonali\",'Jon'}"
   ]
  },
  {
   "cell_type": "code",
   "execution_count": 73,
   "id": "ecbeca40",
   "metadata": {},
   "outputs": [
    {
     "data": {
      "text/plain": [
       "{'Justin', 'Keshav'}"
      ]
     },
     "execution_count": 73,
     "metadata": {},
     "output_type": "execute_result"
    }
   ],
   "source": [
    "loan.difference(credit)"
   ]
  },
  {
   "cell_type": "code",
   "execution_count": 74,
   "id": "55ab81fa",
   "metadata": {},
   "outputs": [
    {
     "data": {
      "text/plain": [
       "{'Madhav', 'sonali'}"
      ]
     },
     "execution_count": 74,
     "metadata": {},
     "output_type": "execute_result"
    }
   ],
   "source": [
    "credit.difference(loan)"
   ]
  },
  {
   "cell_type": "code",
   "execution_count": 75,
   "id": "558c2351",
   "metadata": {},
   "outputs": [
    {
     "data": {
      "text/plain": [
       "{'Arun', 'Jon'}"
      ]
     },
     "execution_count": 75,
     "metadata": {},
     "output_type": "execute_result"
    }
   ],
   "source": [
    "loan.intersection(credit)"
   ]
  },
  {
   "cell_type": "code",
   "execution_count": 76,
   "id": "84ba0888",
   "metadata": {},
   "outputs": [
    {
     "data": {
      "text/plain": [
       "{'Justin', 'Keshav', 'Madhav', 'sonali'}"
      ]
     },
     "execution_count": 76,
     "metadata": {},
     "output_type": "execute_result"
    }
   ],
   "source": [
    "loan.symmetric_difference(credit)"
   ]
  },
  {
   "cell_type": "code",
   "execution_count": 77,
   "id": "593b3533",
   "metadata": {},
   "outputs": [
    {
     "data": {
      "text/plain": [
       "{'Arun', 'Jon', 'Justin', 'Keshav', 'Madhav', 'sonali'}"
      ]
     },
     "execution_count": 77,
     "metadata": {},
     "output_type": "execute_result"
    }
   ],
   "source": [
    "loan.union(credit)"
   ]
  },
  {
   "cell_type": "code",
   "execution_count": 78,
   "id": "125e8c98",
   "metadata": {},
   "outputs": [],
   "source": [
    "p = {1,2,3}"
   ]
  },
  {
   "cell_type": "code",
   "execution_count": 79,
   "id": "fb16fb7b",
   "metadata": {},
   "outputs": [],
   "source": [
    "p1 = {1,2,5}"
   ]
  },
  {
   "cell_type": "code",
   "execution_count": 80,
   "id": "b23b82ab",
   "metadata": {},
   "outputs": [
    {
     "data": {
      "text/plain": [
       "{3, 5}"
      ]
     },
     "execution_count": 80,
     "metadata": {},
     "output_type": "execute_result"
    }
   ],
   "source": [
    "p.symmetric_difference(p1)"
   ]
  },
  {
   "cell_type": "code",
   "execution_count": 81,
   "id": "f87e680f",
   "metadata": {},
   "outputs": [
    {
     "data": {
      "text/plain": [
       "{'Arun', 'Jon', 'Justin', 'Keshav'}"
      ]
     },
     "execution_count": 81,
     "metadata": {},
     "output_type": "execute_result"
    }
   ],
   "source": [
    "loan"
   ]
  },
  {
   "cell_type": "code",
   "execution_count": 82,
   "id": "ba993dfe",
   "metadata": {},
   "outputs": [],
   "source": [
    "loan1 = loan.copy()"
   ]
  },
  {
   "cell_type": "code",
   "execution_count": 83,
   "id": "4a58ee33",
   "metadata": {},
   "outputs": [
    {
     "data": {
      "text/plain": [
       "{'Arun', 'Jon', 'Justin', 'Keshav'}"
      ]
     },
     "execution_count": 83,
     "metadata": {},
     "output_type": "execute_result"
    }
   ],
   "source": [
    "loan1"
   ]
  },
  {
   "cell_type": "code",
   "execution_count": 84,
   "id": "6b1539a6",
   "metadata": {},
   "outputs": [
    {
     "data": {
      "text/plain": [
       "{'Arun', 'Jon', 'Justin', 'Keshav'}"
      ]
     },
     "execution_count": 84,
     "metadata": {},
     "output_type": "execute_result"
    }
   ],
   "source": [
    "loan"
   ]
  },
  {
   "cell_type": "code",
   "execution_count": 85,
   "id": "973e3d82",
   "metadata": {},
   "outputs": [],
   "source": [
    "s = {1,2,3}"
   ]
  },
  {
   "cell_type": "code",
   "execution_count": 86,
   "id": "19cd6b7d",
   "metadata": {},
   "outputs": [],
   "source": [
    "s1 = {1,2,3,4,5,6}"
   ]
  },
  {
   "cell_type": "code",
   "execution_count": 93,
   "id": "d010ee1f",
   "metadata": {},
   "outputs": [],
   "source": [
    "s3 = {1,100,200}"
   ]
  },
  {
   "cell_type": "code",
   "execution_count": 88,
   "id": "7708eb39",
   "metadata": {},
   "outputs": [
    {
     "data": {
      "text/plain": [
       "True"
      ]
     },
     "execution_count": 88,
     "metadata": {},
     "output_type": "execute_result"
    }
   ],
   "source": [
    "s1.issuperset(s)"
   ]
  },
  {
   "cell_type": "code",
   "execution_count": 89,
   "id": "37fd4807",
   "metadata": {},
   "outputs": [],
   "source": [
    "#method --> is ---> boolean result ---> True/False"
   ]
  },
  {
   "cell_type": "code",
   "execution_count": 90,
   "id": "e18e8d8e",
   "metadata": {},
   "outputs": [
    {
     "data": {
      "text/plain": [
       "True"
      ]
     },
     "execution_count": 90,
     "metadata": {},
     "output_type": "execute_result"
    }
   ],
   "source": [
    "s.issubset(s1)"
   ]
  },
  {
   "cell_type": "code",
   "execution_count": 94,
   "id": "b4c924ec",
   "metadata": {},
   "outputs": [
    {
     "data": {
      "text/plain": [
       "False"
      ]
     },
     "execution_count": 94,
     "metadata": {},
     "output_type": "execute_result"
    }
   ],
   "source": [
    "s3.isdisjoint(s)"
   ]
  },
  {
   "cell_type": "code",
   "execution_count": 95,
   "id": "2f890e75",
   "metadata": {},
   "outputs": [
    {
     "data": {
      "text/plain": [
       "False"
      ]
     },
     "execution_count": 95,
     "metadata": {},
     "output_type": "execute_result"
    }
   ],
   "source": [
    "s3.isdisjoint(s1)"
   ]
  },
  {
   "cell_type": "code",
   "execution_count": 98,
   "id": "27b05fb9",
   "metadata": {},
   "outputs": [
    {
     "name": "stdout",
     "output_type": "stream",
     "text": [
      "Hi\n"
     ]
    }
   ],
   "source": [
    "if s.issubset(s1):\n",
    "    print(\"Hi\")\n",
    "else:\n",
    "    print(\"bye\")"
   ]
  },
  {
   "cell_type": "code",
   "execution_count": null,
   "id": "7f0ba373",
   "metadata": {},
   "outputs": [],
   "source": [
    "s1 \n",
    "\n",
    "\n",
    "s2\n",
    "\n",
    "\n",
    "\n",
    "s3 "
   ]
  },
  {
   "cell_type": "code",
   "execution_count": 99,
   "id": "59fc2bad",
   "metadata": {},
   "outputs": [
    {
     "data": {
      "text/plain": [
       "{1, 2, 3}"
      ]
     },
     "execution_count": 99,
     "metadata": {},
     "output_type": "execute_result"
    }
   ],
   "source": [
    "s  "
   ]
  },
  {
   "cell_type": "code",
   "execution_count": 100,
   "id": "809b78ad",
   "metadata": {},
   "outputs": [
    {
     "data": {
      "text/plain": [
       "{1, 2, 3, 4, 5, 6}"
      ]
     },
     "execution_count": 100,
     "metadata": {},
     "output_type": "execute_result"
    }
   ],
   "source": [
    "s1"
   ]
  },
  {
   "cell_type": "code",
   "execution_count": 101,
   "id": "5d44ba94",
   "metadata": {},
   "outputs": [
    {
     "data": {
      "text/plain": [
       "{1, 2, 3, 100, 200, 300}"
      ]
     },
     "execution_count": 101,
     "metadata": {},
     "output_type": "execute_result"
    }
   ],
   "source": [
    "s2"
   ]
  },
  {
   "cell_type": "code",
   "execution_count": 102,
   "id": "e7c6db18",
   "metadata": {},
   "outputs": [
    {
     "data": {
      "text/plain": [
       "{1, 2, 3}"
      ]
     },
     "execution_count": 102,
     "metadata": {},
     "output_type": "execute_result"
    }
   ],
   "source": [
    "s.intersection(s1,s2)"
   ]
  },
  {
   "cell_type": "code",
   "execution_count": 103,
   "id": "950316cb",
   "metadata": {},
   "outputs": [],
   "source": [
    "p = {1,2,3}"
   ]
  },
  {
   "cell_type": "code",
   "execution_count": 104,
   "id": "e574b910",
   "metadata": {},
   "outputs": [],
   "source": [
    "p1=p"
   ]
  },
  {
   "cell_type": "code",
   "execution_count": 105,
   "id": "d4a454e8",
   "metadata": {},
   "outputs": [
    {
     "data": {
      "text/plain": [
       "{1, 2, 3}"
      ]
     },
     "execution_count": 105,
     "metadata": {},
     "output_type": "execute_result"
    }
   ],
   "source": [
    "p1"
   ]
  },
  {
   "cell_type": "code",
   "execution_count": 106,
   "id": "ac7fa8b5",
   "metadata": {},
   "outputs": [
    {
     "data": {
      "text/plain": [
       "{1, 2, 3}"
      ]
     },
     "execution_count": 106,
     "metadata": {},
     "output_type": "execute_result"
    }
   ],
   "source": [
    "p"
   ]
  },
  {
   "cell_type": "code",
   "execution_count": 107,
   "id": "25b0f233",
   "metadata": {},
   "outputs": [],
   "source": [
    "p.add(100)"
   ]
  },
  {
   "cell_type": "code",
   "execution_count": 108,
   "id": "c5b05156",
   "metadata": {},
   "outputs": [
    {
     "data": {
      "text/plain": [
       "{1, 2, 3, 100}"
      ]
     },
     "execution_count": 108,
     "metadata": {},
     "output_type": "execute_result"
    }
   ],
   "source": [
    "p1"
   ]
  },
  {
   "cell_type": "code",
   "execution_count": 109,
   "id": "2524d222",
   "metadata": {},
   "outputs": [
    {
     "data": {
      "text/plain": [
       "{1, 2, 3, 100}"
      ]
     },
     "execution_count": 109,
     "metadata": {},
     "output_type": "execute_result"
    }
   ],
   "source": [
    "p"
   ]
  },
  {
   "cell_type": "code",
   "execution_count": 110,
   "id": "24804834",
   "metadata": {},
   "outputs": [],
   "source": [
    "temp = p.copy()"
   ]
  },
  {
   "cell_type": "code",
   "execution_count": 111,
   "id": "f47325a0",
   "metadata": {},
   "outputs": [
    {
     "data": {
      "text/plain": [
       "{1, 2, 3, 100}"
      ]
     },
     "execution_count": 111,
     "metadata": {},
     "output_type": "execute_result"
    }
   ],
   "source": [
    "temp"
   ]
  },
  {
   "cell_type": "code",
   "execution_count": 112,
   "id": "6b3c3439",
   "metadata": {},
   "outputs": [],
   "source": [
    "temp.add(500)"
   ]
  },
  {
   "cell_type": "code",
   "execution_count": 113,
   "id": "09863561",
   "metadata": {},
   "outputs": [
    {
     "data": {
      "text/plain": [
       "{1, 2, 3, 100}"
      ]
     },
     "execution_count": 113,
     "metadata": {},
     "output_type": "execute_result"
    }
   ],
   "source": [
    "p"
   ]
  },
  {
   "cell_type": "code",
   "execution_count": null,
   "id": "d84fc079",
   "metadata": {},
   "outputs": [],
   "source": [
    "insertion\n",
    "\n",
    "add(element) --> single element into set\n",
    "update({}/[],())--> multiple elements \n",
    "\n",
    "deletion:\n",
    "    pop()--->randomly delete element \n",
    "    remove()--> if element present then delete if not then return KeyError\n",
    "    discard()--> if element present then delete if not then skip \n",
    "    clear() --> delete all elements from the set\n",
    "    \n",
    "union\n",
    "intersection\n",
    "difference\n",
    "symmetric difference"
   ]
  },
  {
   "cell_type": "code",
   "execution_count": 1,
   "id": "bebe093f",
   "metadata": {},
   "outputs": [],
   "source": [
    "p = {100,200,'python','java','Hadoop'}"
   ]
  },
  {
   "cell_type": "code",
   "execution_count": 2,
   "id": "abe75a09",
   "metadata": {},
   "outputs": [
    {
     "data": {
      "text/plain": [
       "{100, 200, 'Hadoop', 'java', 'python'}"
      ]
     },
     "execution_count": 2,
     "metadata": {},
     "output_type": "execute_result"
    }
   ],
   "source": [
    "p"
   ]
  },
  {
   "cell_type": "code",
   "execution_count": 4,
   "id": "1a7f92d4",
   "metadata": {},
   "outputs": [],
   "source": [
    "p1 = {100,44,77,88}"
   ]
  },
  {
   "cell_type": "code",
   "execution_count": 5,
   "id": "eb9b93c7",
   "metadata": {},
   "outputs": [
    {
     "data": {
      "text/plain": [
       "{100, 200, 'Hadoop', 'java', 'python'}"
      ]
     },
     "execution_count": 5,
     "metadata": {},
     "output_type": "execute_result"
    }
   ],
   "source": [
    "p"
   ]
  },
  {
   "cell_type": "code",
   "execution_count": 6,
   "id": "9a1b34c0",
   "metadata": {},
   "outputs": [
    {
     "data": {
      "text/plain": [
       "{44, 77, 88, 100}"
      ]
     },
     "execution_count": 6,
     "metadata": {},
     "output_type": "execute_result"
    }
   ],
   "source": [
    "p1"
   ]
  },
  {
   "cell_type": "code",
   "execution_count": 10,
   "id": "719a668a",
   "metadata": {},
   "outputs": [],
   "source": [
    "temp = p.intersection(p1)"
   ]
  },
  {
   "cell_type": "code",
   "execution_count": 11,
   "id": "9958a21d",
   "metadata": {},
   "outputs": [
    {
     "data": {
      "text/plain": [
       "{100}"
      ]
     },
     "execution_count": 11,
     "metadata": {},
     "output_type": "execute_result"
    }
   ],
   "source": [
    "temp"
   ]
  },
  {
   "cell_type": "code",
   "execution_count": 9,
   "id": "0ff1c11d",
   "metadata": {},
   "outputs": [
    {
     "data": {
      "text/plain": [
       "{44, 77, 88, 100}"
      ]
     },
     "execution_count": 9,
     "metadata": {},
     "output_type": "execute_result"
    }
   ],
   "source": [
    "p1"
   ]
  },
  {
   "cell_type": "code",
   "execution_count": 12,
   "id": "a1877e1e",
   "metadata": {},
   "outputs": [],
   "source": [
    "p.intersection_update(p1)"
   ]
  },
  {
   "cell_type": "code",
   "execution_count": 13,
   "id": "3f9d9ae0",
   "metadata": {},
   "outputs": [
    {
     "data": {
      "text/plain": [
       "{100}"
      ]
     },
     "execution_count": 13,
     "metadata": {},
     "output_type": "execute_result"
    }
   ],
   "source": [
    "p"
   ]
  },
  {
   "cell_type": "code",
   "execution_count": 21,
   "id": "12707c2c",
   "metadata": {},
   "outputs": [],
   "source": [
    "p = {'PX101','PX103','PX106'}"
   ]
  },
  {
   "cell_type": "code",
   "execution_count": 22,
   "id": "ab04246f",
   "metadata": {},
   "outputs": [],
   "source": [
    "prd_set = {'PX105','PX101','PX107'}"
   ]
  },
  {
   "cell_type": "code",
   "execution_count": 17,
   "id": "c12b312b",
   "metadata": {},
   "outputs": [],
   "source": [
    "r = p.difference(prd_set)"
   ]
  },
  {
   "cell_type": "code",
   "execution_count": 18,
   "id": "365c5b8d",
   "metadata": {},
   "outputs": [
    {
     "data": {
      "text/plain": [
       "{'PX103', 'PX106'}"
      ]
     },
     "execution_count": 18,
     "metadata": {},
     "output_type": "execute_result"
    }
   ],
   "source": [
    "r"
   ]
  },
  {
   "cell_type": "code",
   "execution_count": 19,
   "id": "ddcf6938",
   "metadata": {},
   "outputs": [],
   "source": [
    "p.difference_update(prd_set)"
   ]
  },
  {
   "cell_type": "code",
   "execution_count": 20,
   "id": "0e4baf35",
   "metadata": {},
   "outputs": [
    {
     "data": {
      "text/plain": [
       "{'PX103', 'PX106'}"
      ]
     },
     "execution_count": 20,
     "metadata": {},
     "output_type": "execute_result"
    }
   ],
   "source": [
    "p"
   ]
  },
  {
   "cell_type": "code",
   "execution_count": 23,
   "id": "494cce60",
   "metadata": {},
   "outputs": [
    {
     "data": {
      "text/plain": [
       "{'PX103', 'PX105', 'PX106', 'PX107'}"
      ]
     },
     "execution_count": 23,
     "metadata": {},
     "output_type": "execute_result"
    }
   ],
   "source": [
    "p.symmetric_difference(prd_set)"
   ]
  },
  {
   "cell_type": "code",
   "execution_count": 24,
   "id": "168a09ca",
   "metadata": {},
   "outputs": [],
   "source": [
    "p.symmetric_difference_update(prd_set)"
   ]
  },
  {
   "cell_type": "code",
   "execution_count": 25,
   "id": "6f0d7dd8",
   "metadata": {},
   "outputs": [
    {
     "data": {
      "text/plain": [
       "{'PX103', 'PX105', 'PX106', 'PX107'}"
      ]
     },
     "execution_count": 25,
     "metadata": {},
     "output_type": "execute_result"
    }
   ],
   "source": [
    "p"
   ]
  },
  {
   "cell_type": "code",
   "execution_count": 26,
   "id": "aeea9a1b",
   "metadata": {},
   "outputs": [],
   "source": [
    "import pandas as pd"
   ]
  },
  {
   "cell_type": "code",
   "execution_count": 27,
   "id": "92ac55dd",
   "metadata": {},
   "outputs": [],
   "source": [
    "df = pd.read_json('https://api.sampleapis.com/coffee/hot')"
   ]
  },
  {
   "cell_type": "code",
   "execution_count": 28,
   "id": "c283d11c",
   "metadata": {},
   "outputs": [
    {
     "data": {
      "text/html": [
       "<div>\n",
       "<style scoped>\n",
       "    .dataframe tbody tr th:only-of-type {\n",
       "        vertical-align: middle;\n",
       "    }\n",
       "\n",
       "    .dataframe tbody tr th {\n",
       "        vertical-align: top;\n",
       "    }\n",
       "\n",
       "    .dataframe thead th {\n",
       "        text-align: right;\n",
       "    }\n",
       "</style>\n",
       "<table border=\"1\" class=\"dataframe\">\n",
       "  <thead>\n",
       "    <tr style=\"text-align: right;\">\n",
       "      <th></th>\n",
       "      <th>title</th>\n",
       "      <th>description</th>\n",
       "      <th>ingredients</th>\n",
       "      <th>id</th>\n",
       "    </tr>\n",
       "  </thead>\n",
       "  <tbody>\n",
       "    <tr>\n",
       "      <th>0</th>\n",
       "      <td>Black</td>\n",
       "      <td>Black coffee is as simple as it gets with grou...</td>\n",
       "      <td>[Coffee]</td>\n",
       "      <td>1</td>\n",
       "    </tr>\n",
       "    <tr>\n",
       "      <th>1</th>\n",
       "      <td>Latte</td>\n",
       "      <td>As the most popular coffee drink out there, th...</td>\n",
       "      <td>[Espresso, Steamed Milk]</td>\n",
       "      <td>2</td>\n",
       "    </tr>\n",
       "    <tr>\n",
       "      <th>2</th>\n",
       "      <td>Cappuccino</td>\n",
       "      <td>Cappuccino is a latte made with more foam than...</td>\n",
       "      <td>[Espresso, Steamed Milk, Foam]</td>\n",
       "      <td>3</td>\n",
       "    </tr>\n",
       "    <tr>\n",
       "      <th>3</th>\n",
       "      <td>Americano</td>\n",
       "      <td>With a similar flavor to black coffee, the ame...</td>\n",
       "      <td>[Espresso, Hot Water]</td>\n",
       "      <td>4</td>\n",
       "    </tr>\n",
       "    <tr>\n",
       "      <th>4</th>\n",
       "      <td>Espresso</td>\n",
       "      <td>An espresso shot can be served solo or used as...</td>\n",
       "      <td>[1oz Espresso]</td>\n",
       "      <td>5</td>\n",
       "    </tr>\n",
       "    <tr>\n",
       "      <th>5</th>\n",
       "      <td>Doppio</td>\n",
       "      <td>A double shot of espresso, the doppio is perfe...</td>\n",
       "      <td>[2oz Espresso]</td>\n",
       "      <td>6</td>\n",
       "    </tr>\n",
       "    <tr>\n",
       "      <th>6</th>\n",
       "      <td>Cortado</td>\n",
       "      <td>Like yin and yang, a cortado is the perfect ba...</td>\n",
       "      <td>[1oz Espresso, 1oz Steamed Milk]</td>\n",
       "      <td>7</td>\n",
       "    </tr>\n",
       "    <tr>\n",
       "      <th>7</th>\n",
       "      <td>Red Eye</td>\n",
       "      <td>Named after those pesky midnight flights, a re...</td>\n",
       "      <td>[Coffee, Espresso]</td>\n",
       "      <td>8</td>\n",
       "    </tr>\n",
       "    <tr>\n",
       "      <th>8</th>\n",
       "      <td>Galão</td>\n",
       "      <td>Originating in Portugal, this hot coffee drink...</td>\n",
       "      <td>[Espresso, Foamed milk]</td>\n",
       "      <td>9</td>\n",
       "    </tr>\n",
       "    <tr>\n",
       "      <th>9</th>\n",
       "      <td>Lungo</td>\n",
       "      <td>A lungo is a long-pull espresso. The longer th...</td>\n",
       "      <td>[Long pulled espresso]</td>\n",
       "      <td>10</td>\n",
       "    </tr>\n",
       "    <tr>\n",
       "      <th>10</th>\n",
       "      <td>Macchiato</td>\n",
       "      <td>The macchiato is another espresso-based drink ...</td>\n",
       "      <td>[Espresso, Foam]</td>\n",
       "      <td>11</td>\n",
       "    </tr>\n",
       "    <tr>\n",
       "      <th>11</th>\n",
       "      <td>Mocha</td>\n",
       "      <td>For all you chocolate lovers out there, you’ll...</td>\n",
       "      <td>[Espresso, Steamed Milk, Chocolate]</td>\n",
       "      <td>12</td>\n",
       "    </tr>\n",
       "    <tr>\n",
       "      <th>12</th>\n",
       "      <td>Ristretto</td>\n",
       "      <td>Ristretto is an espresso shot. It uses less ho...</td>\n",
       "      <td>[Short pulled espresso]</td>\n",
       "      <td>13</td>\n",
       "    </tr>\n",
       "    <tr>\n",
       "      <th>13</th>\n",
       "      <td>Flat White</td>\n",
       "      <td>This Aussie-born drink is basically a cappucci...</td>\n",
       "      <td>[Espresso, Steamed Milk]</td>\n",
       "      <td>14</td>\n",
       "    </tr>\n",
       "    <tr>\n",
       "      <th>14</th>\n",
       "      <td>Affogato</td>\n",
       "      <td>The affogato is an excuse to enjoy a scoop of ...</td>\n",
       "      <td>[Espresso, Ice cream]</td>\n",
       "      <td>15</td>\n",
       "    </tr>\n",
       "    <tr>\n",
       "      <th>15</th>\n",
       "      <td>Café au Lait</td>\n",
       "      <td>Café au lait is perfect for the coffee minimal...</td>\n",
       "      <td>[Coffee, Steamed Milk]</td>\n",
       "      <td>16</td>\n",
       "    </tr>\n",
       "    <tr>\n",
       "      <th>16</th>\n",
       "      <td>Irish</td>\n",
       "      <td>Irish coffee consists of black coffee, whiskey...</td>\n",
       "      <td>[Coffee, Whiskey, Sugar, Cream]</td>\n",
       "      <td>17</td>\n",
       "    </tr>\n",
       "    <tr>\n",
       "      <th>17</th>\n",
       "      <td>Guayoyo</td>\n",
       "      <td>Traditional venezuelan coffee prepared by filt...</td>\n",
       "      <td>[Coffee, Traditional, Hot Water]</td>\n",
       "      <td>18</td>\n",
       "    </tr>\n",
       "    <tr>\n",
       "      <th>18</th>\n",
       "      <td>Cortadito</td>\n",
       "      <td>Traditional cuban coffee method where a bit of...</td>\n",
       "      <td>[Coffee, Traditional, Sugar, Milk]</td>\n",
       "      <td>19</td>\n",
       "    </tr>\n",
       "    <tr>\n",
       "      <th>19</th>\n",
       "      <td>Aguapanela Coffee</td>\n",
       "      <td>Bring panela and coffee to a boil in a small p...</td>\n",
       "      <td>[Coffee, Sweet, Panela, Traditional]</td>\n",
       "      <td>20</td>\n",
       "    </tr>\n",
       "  </tbody>\n",
       "</table>\n",
       "</div>"
      ],
      "text/plain": [
       "                title                                        description  \\\n",
       "0               Black  Black coffee is as simple as it gets with grou...   \n",
       "1               Latte  As the most popular coffee drink out there, th...   \n",
       "2          Cappuccino  Cappuccino is a latte made with more foam than...   \n",
       "3           Americano  With a similar flavor to black coffee, the ame...   \n",
       "4            Espresso  An espresso shot can be served solo or used as...   \n",
       "5              Doppio  A double shot of espresso, the doppio is perfe...   \n",
       "6             Cortado  Like yin and yang, a cortado is the perfect ba...   \n",
       "7             Red Eye  Named after those pesky midnight flights, a re...   \n",
       "8               Galão  Originating in Portugal, this hot coffee drink...   \n",
       "9               Lungo  A lungo is a long-pull espresso. The longer th...   \n",
       "10          Macchiato  The macchiato is another espresso-based drink ...   \n",
       "11              Mocha  For all you chocolate lovers out there, you’ll...   \n",
       "12          Ristretto  Ristretto is an espresso shot. It uses less ho...   \n",
       "13         Flat White  This Aussie-born drink is basically a cappucci...   \n",
       "14           Affogato  The affogato is an excuse to enjoy a scoop of ...   \n",
       "15       Café au Lait  Café au lait is perfect for the coffee minimal...   \n",
       "16              Irish  Irish coffee consists of black coffee, whiskey...   \n",
       "17            Guayoyo  Traditional venezuelan coffee prepared by filt...   \n",
       "18          Cortadito  Traditional cuban coffee method where a bit of...   \n",
       "19  Aguapanela Coffee  Bring panela and coffee to a boil in a small p...   \n",
       "\n",
       "                             ingredients  id  \n",
       "0                               [Coffee]   1  \n",
       "1               [Espresso, Steamed Milk]   2  \n",
       "2         [Espresso, Steamed Milk, Foam]   3  \n",
       "3                  [Espresso, Hot Water]   4  \n",
       "4                         [1oz Espresso]   5  \n",
       "5                         [2oz Espresso]   6  \n",
       "6       [1oz Espresso, 1oz Steamed Milk]   7  \n",
       "7                     [Coffee, Espresso]   8  \n",
       "8                [Espresso, Foamed milk]   9  \n",
       "9                 [Long pulled espresso]  10  \n",
       "10                      [Espresso, Foam]  11  \n",
       "11   [Espresso, Steamed Milk, Chocolate]  12  \n",
       "12               [Short pulled espresso]  13  \n",
       "13              [Espresso, Steamed Milk]  14  \n",
       "14                 [Espresso, Ice cream]  15  \n",
       "15                [Coffee, Steamed Milk]  16  \n",
       "16       [Coffee, Whiskey, Sugar, Cream]  17  \n",
       "17      [Coffee, Traditional, Hot Water]  18  \n",
       "18    [Coffee, Traditional, Sugar, Milk]  19  \n",
       "19  [Coffee, Sweet, Panela, Traditional]  20  "
      ]
     },
     "execution_count": 28,
     "metadata": {},
     "output_type": "execute_result"
    }
   ],
   "source": [
    "df"
   ]
  },
  {
   "cell_type": "code",
   "execution_count": null,
   "id": "bb77e221",
   "metadata": {},
   "outputs": [],
   "source": []
  }
 ],
 "metadata": {
  "kernelspec": {
   "display_name": "Python 3",
   "language": "python",
   "name": "python3"
  },
  "language_info": {
   "codemirror_mode": {
    "name": "ipython",
    "version": 3
   },
   "file_extension": ".py",
   "mimetype": "text/x-python",
   "name": "python",
   "nbconvert_exporter": "python",
   "pygments_lexer": "ipython3",
   "version": "3.8.8"
  }
 },
 "nbformat": 4,
 "nbformat_minor": 5
}
